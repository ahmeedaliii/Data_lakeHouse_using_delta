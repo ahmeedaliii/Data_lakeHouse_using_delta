{
 "cells": [
  {
   "cell_type": "code",
   "execution_count": 8,
   "id": "79036c6b-3794-4112-a943-66dc345f68df",
   "metadata": {},
   "outputs": [
    {
     "name": "stdout",
     "output_type": "stream",
     "text": [
      "Defaulting to user installation because normal site-packages is not writeable\n",
      "Requirement already satisfied: delta-spark in /home/itversity/.local/lib/python3.6/site-packages (1.2.1)\n",
      "Collecting pyspark<3.3.0,>=3.2.0\n",
      "  Using cached pyspark-3.2.4-py2.py3-none-any.whl\n",
      "Requirement already satisfied: importlib-metadata>=1.0.0 in /home/itversity/.local/lib/python3.6/site-packages (from delta-spark) (4.8.3)\n",
      "Requirement already satisfied: typing-extensions>=3.6.4 in /home/itversity/.local/lib/python3.6/site-packages (from importlib-metadata>=1.0.0->delta-spark) (4.0.1)\n",
      "Requirement already satisfied: zipp>=0.5 in /home/itversity/.local/lib/python3.6/site-packages (from importlib-metadata>=1.0.0->delta-spark) (3.6.0)\n",
      "Requirement already satisfied: py4j==0.10.9.5 in /home/itversity/.local/lib/python3.6/site-packages (from pyspark<3.3.0,>=3.2.0->delta-spark) (0.10.9.5)\n",
      "Installing collected packages: pyspark\n",
      "Successfully installed pyspark-3.2.4\n",
      "Note: you may need to restart the kernel to use updated packages.\n"
     ]
    }
   ],
   "source": [
    "pip install delta-spark"
   ]
  },
  {
   "cell_type": "code",
   "execution_count": 18,
   "id": "9602c5b2-7296-4734-9389-5ccd0d5ac064",
   "metadata": {},
   "outputs": [
    {
     "name": "stdout",
     "output_type": "stream",
     "text": [
      "Name: pyspark\n",
      "Version: 3.1.2\n",
      "Summary: Apache Spark Python API\n",
      "Home-page: https://github.com/apache/spark/tree/master/python\n",
      "Author: Spark Developers\n",
      "Author-email: dev@spark.apache.org\n",
      "License: http://www.apache.org/licenses/LICENSE-2.0\n",
      "Location: /opt/spark-3.1.2-bin-hadoop3.2/python\n",
      "Requires: py4j\n",
      "Required-by: delta-spark\n",
      "Note: you may need to restart the kernel to use updated packages.\n"
     ]
    }
   ],
   "source": [
    "pip show pyspark"
   ]
  },
  {
   "cell_type": "code",
   "execution_count": null,
   "id": "53362ec4-0032-4f5b-895a-ae3d97189954",
   "metadata": {},
   "outputs": [
    {
     "name": "stdout",
     "output_type": "stream",
     "text": [
      "/opt/spark2/bin/pyspark: line 45: python: command not found\n",
      "Python 3.6.9 (default, Dec  8 2021, 21:08:43) \n",
      "[GCC 8.4.0] on linux\n",
      "Type \"help\", \"copyright\", \"credits\" or \"license\" for more information.\n",
      ":: loading settings :: url = jar:file:/opt/spark-3.1.2-bin-hadoop3.2/jars/ivy-2.4.0.jar!/org/apache/ivy/core/settings/ivysettings.xml\n",
      "Ivy Default Cache set to: /home/itversity/.ivy2/cache\n",
      "The jars for the packages stored in: /home/itversity/.ivy2/jars\n",
      "io.delta#delta-core_2.12 added as a dependency\n",
      ":: resolving dependencies :: org.apache.spark#spark-submit-parent-0146762b-b61d-4418-8009-7c35c252eb15;1.0\n",
      "\tconfs: [default]\n",
      "\tfound io.delta#delta-core_2.12;1.0.0 in central\n",
      "\tfound org.antlr#antlr4;4.7 in central\n",
      "\tfound org.antlr#antlr4-runtime;4.7 in central\n",
      "\tfound org.antlr#antlr-runtime;3.5.2 in central\n",
      "\tfound org.antlr#ST4;4.0.8 in central\n",
      "\tfound org.abego.treelayout#org.abego.treelayout.core;1.0.3 in central\n",
      "\tfound org.glassfish#javax.json;1.0.4 in central\n",
      "\tfound com.ibm.icu#icu4j;58.2 in central\n",
      ":: resolution report :: resolve 570ms :: artifacts dl 18ms\n",
      "\t:: modules in use:\n",
      "\tcom.ibm.icu#icu4j;58.2 from central in [default]\n",
      "\tio.delta#delta-core_2.12;1.0.0 from central in [default]\n",
      "\torg.abego.treelayout#org.abego.treelayout.core;1.0.3 from central in [default]\n",
      "\torg.antlr#ST4;4.0.8 from central in [default]\n",
      "\torg.antlr#antlr-runtime;3.5.2 from central in [default]\n",
      "\torg.antlr#antlr4;4.7 from central in [default]\n",
      "\torg.antlr#antlr4-runtime;4.7 from central in [default]\n",
      "\torg.glassfish#javax.json;1.0.4 from central in [default]\n",
      "\t---------------------------------------------------------------------\n",
      "\t|                  |            modules            ||   artifacts   |\n",
      "\t|       conf       | number| search|dwnlded|evicted|| number|dwnlded|\n",
      "\t---------------------------------------------------------------------\n",
      "\t|      default     |   8   |   0   |   0   |   0   ||   8   |   0   |\n",
      "\t---------------------------------------------------------------------\n",
      ":: retrieving :: org.apache.spark#spark-submit-parent-0146762b-b61d-4418-8009-7c35c252eb15\n",
      "\tconfs: [default]\n",
      "\t0 artifacts copied, 8 already retrieved (0kB/27ms)\n",
      "2024-07-19 12:34:52,774 WARN util.NativeCodeLoader: Unable to load native-hadoop library for your platform... using builtin-java classes where applicable\n",
      "Setting default log level to \"WARN\".\n",
      "To adjust logging level use sc.setLogLevel(newLevel). For SparkR, use setLogLevel(newLevel).\n",
      "2024-07-19 12:35:00,898 WARN yarn.Client: Same path resource file:///home/itversity/.ivy2/jars/io.delta_delta-core_2.12-1.0.0.jar added multiple times to distributed cache.\n",
      "2024-07-19 12:35:00,898 WARN yarn.Client: Same path resource file:///home/itversity/.ivy2/jars/org.antlr_antlr4-4.7.jar added multiple times to distributed cache.\n",
      "2024-07-19 12:35:00,898 WARN yarn.Client: Same path resource file:///home/itversity/.ivy2/jars/org.antlr_antlr4-runtime-4.7.jar added multiple times to distributed cache.\n",
      "2024-07-19 12:35:00,899 WARN yarn.Client: Same path resource file:///home/itversity/.ivy2/jars/org.antlr_antlr-runtime-3.5.2.jar added multiple times to distributed cache.\n",
      "2024-07-19 12:35:00,899 WARN yarn.Client: Same path resource file:///home/itversity/.ivy2/jars/org.antlr_ST4-4.0.8.jar added multiple times to distributed cache.\n",
      "2024-07-19 12:35:00,899 WARN yarn.Client: Same path resource file:///home/itversity/.ivy2/jars/org.abego.treelayout_org.abego.treelayout.core-1.0.3.jar added multiple times to distributed cache.\n",
      "2024-07-19 12:35:00,899 WARN yarn.Client: Same path resource file:///home/itversity/.ivy2/jars/org.glassfish_javax.json-1.0.4.jar added multiple times to distributed cache.\n",
      "2024-07-19 12:35:00,899 WARN yarn.Client: Same path resource file:///home/itversity/.ivy2/jars/com.ibm.icu_icu4j-58.2.jar added multiple times to distributed cache.\n",
      "Welcome to\n",
      "      ____              __\n",
      "     / __/__  ___ _____/ /__\n",
      "    _\\ \\/ _ \\/ _ `/ __/  '_/\n",
      "   /__ / .__/\\_,_/_/ /_/\\_\\   version 3.1.2\n",
      "      /_/\n",
      "\n",
      "Using Python version 3.6.9 (default, Dec  8 2021 21:08:43)\n",
      "Spark context Web UI available at http://itvdelab:4040\n",
      "Spark context available as 'sc' (master = yarn, app id = application_1721387194710_0012).\n",
      "SparkSession available as 'spark'.\n",
      ">>> "
     ]
    }
   ],
   "source": [
    "!pyspark --packages io.delta:delta-core_2.12:1.0.0 \\\n",
    "  --conf \"spark.sql.extensions=io.delta.sql.DeltaSparkSessionExtension\" \\\n",
    "  --conf \"spark.sql.catalog.spark_catalog=org.apache.spark.sql.delta.catalog.DeltaCatalog\""
   ]
  },
  {
   "cell_type": "code",
   "execution_count": 5,
   "id": "14f051df-626d-4070-b363-8776c2be2a9e",
   "metadata": {},
   "outputs": [],
   "source": [
    "from delta import *\n",
    "from pyspark.sql import SparkSession\n",
    "from pyspark.sql.functions import *"
   ]
  },
  {
   "cell_type": "code",
   "execution_count": null,
   "id": "5de9bf6d-863e-4e3d-ac27-48b4169f2091",
   "metadata": {
    "tags": []
   },
   "outputs": [],
   "source": [
    "import os\n",
    "from pyspark.sql import SparkSession\n",
    "\n",
    "# Path to the downloaded Delta Lake JAR file\n",
    "delta_jar = \"/spark3-jars/delta-core_2.12-1.0.0.jar\"\n",
    "\n",
    "# Initialize the Spark session with Delta Lake support\n",
    "spark = SparkSession.builder \\\n",
    "    .appName(\"DeltaApp\") \\\n",
    "    .config(\"spark.sql.extensions\", \"io.delta.sql.DeltaSparkSessionExtension\") \\\n",
    "    .config(\"spark.sql.catalog.spark_catalog\", \"org.apache.spark.sql.delta.catalog.DeltaCatalog\") \\\n",
    "    .config(\"spark.jars\", delta_jar) \\\n",
    "    .getOrCreate()\n",
    "\n",
    "# Verify the Spark session is created\n",
    "spark.version\n"
   ]
  },
  {
   "cell_type": "code",
   "execution_count": 6,
   "id": "1428df93-718f-4835-a917-1c278cfe6726",
   "metadata": {},
   "outputs": [],
   "source": [
    "# Initialize the Spark session\n",
    "#delta_jar = \"/spark3-jars/delta-core_2.12-1.0.0.jar\"\n",
    "\n",
    "spark = SparkSession.builder \\\n",
    "    .appName(\"DeltaExample\") \\\n",
    "    .config(\"spark.sql.extensions\", \"io.delta.sql.DeltaSparkSessionExtension\") \\\n",
    "    .config(\"spark.sql.catalog.spark_catalog\", \"org.apache.spark.sql.delta.catalog.DeltaCatalog\") \\\n",
    "    .config(\"spark.jars.packages\", \"io.delta:delta-core_2.12:1.0.0\") \\\n",
    "    .getOrCreate()\n"
   ]
  },
  {
   "cell_type": "code",
   "execution_count": 3,
   "id": "85d6ee55-3cd1-45fc-85bd-b364088380a0",
   "metadata": {},
   "outputs": [],
   "source": [
    "# Create a sample DataFrame\n",
    "data = [(\"Alice\", 34), (\"Bob\", 45), (\"Cathy\", 29)]\n",
    "df = spark.createDataFrame(data, [\"name\", \"age\"])\n"
   ]
  },
  {
   "cell_type": "code",
   "execution_count": 8,
   "id": "3aac0ddd-0e8d-4acc-80c3-9955ce1a40b7",
   "metadata": {},
   "outputs": [],
   "source": [
    "column = spark.range(0,7)"
   ]
  },
  {
   "cell_type": "code",
   "execution_count": 10,
   "id": "9118bb1b-2afd-4af7-84ec-96ed3a79ce9a",
   "metadata": {},
   "outputs": [],
   "source": [
    "column.write.format(\"delta\").save(\"/delta-test\")"
   ]
  },
  {
   "cell_type": "code",
   "execution_count": 19,
   "id": "18ec1966-2005-4782-b8b8-8eb80b26272f",
   "metadata": {},
   "outputs": [
    {
     "name": "stdout",
     "output_type": "stream",
     "text": [
      "+---+\n",
      "| id|\n",
      "+---+\n",
      "|  0|\n",
      "|  1|\n",
      "|  2|\n",
      "|  4|\n",
      "|  6|\n",
      "|  7|\n",
      "|  8|\n",
      "|  5|\n",
      "|  3|\n",
      "|  9|\n",
      "+---+\n",
      "\n"
     ]
    }
   ],
   "source": [
    "column_read = spark.read.format(\"delta\").load(\"/delta-test\")\n",
    "column_read.show()"
   ]
  },
  {
   "cell_type": "code",
   "execution_count": 12,
   "id": "33a0abd2-0e9f-40e3-b54e-b5c1d65ecc16",
   "metadata": {},
   "outputs": [],
   "source": [
    "column1 = spark.range(5,10)"
   ]
  },
  {
   "cell_type": "code",
   "execution_count": 15,
   "id": "ca9f4b8e-9535-44aa-a229-651c41ba474b",
   "metadata": {},
   "outputs": [
    {
     "data": {
      "text/html": [
       "<table border='1'>\n",
       "<tr><th>id</th></tr>\n",
       "<tr><td>5</td></tr>\n",
       "<tr><td>6</td></tr>\n",
       "<tr><td>7</td></tr>\n",
       "<tr><td>8</td></tr>\n",
       "<tr><td>9</td></tr>\n",
       "</table>\n"
      ],
      "text/plain": [
       "+---+\n",
       "| id|\n",
       "+---+\n",
       "|  5|\n",
       "|  6|\n",
       "|  7|\n",
       "|  8|\n",
       "|  9|\n",
       "+---+"
      ]
     },
     "execution_count": 15,
     "metadata": {},
     "output_type": "execute_result"
    }
   ],
   "source": [
    "column1"
   ]
  },
  {
   "cell_type": "code",
   "execution_count": 13,
   "id": "571e4a2a-a47f-4f10-baab-9f9d9b15dd81",
   "metadata": {},
   "outputs": [],
   "source": [
    "deltaTable = DeltaTable.forPath(spark, '/delta-test')"
   ]
  },
  {
   "cell_type": "code",
   "execution_count": 17,
   "id": "224eaee7-46c6-4a8b-9fd5-e574d9d26d14",
   "metadata": {},
   "outputs": [],
   "source": [
    "deltaTable.alias(\"target\").merge(\n",
    "    column1.alias(\"source\"),\n",
    "    \"target.id = source.id\").whenMatchedUpdateAll().whenNotMatchedInsertAll().execute()"
   ]
  },
  {
   "cell_type": "code",
   "execution_count": 29,
   "id": "a6e91820-5e1f-4654-bcf3-96ab7c1a62c5",
   "metadata": {},
   "outputs": [
    {
     "name": "stdout",
     "output_type": "stream",
     "text": [
      "+---+\n",
      "| id|\n",
      "+---+\n",
      "|  0|\n",
      "|  1|\n",
      "|  2|\n",
      "|  4|\n",
      "|  6|\n",
      "|  7|\n",
      "|101|\n",
      "|  8|\n",
      "|102|\n",
      "|  5|\n",
      "|103|\n",
      "|  3|\n",
      "|100|\n",
      "|104|\n",
      "|  9|\n",
      "+---+\n",
      "\n"
     ]
    }
   ],
   "source": [
    "deltaTable.toDF().show()"
   ]
  },
  {
   "cell_type": "code",
   "execution_count": 21,
   "id": "886a1a3f-3802-4eb0-b0fa-9299e18d6447",
   "metadata": {},
   "outputs": [],
   "source": [
    "# Create a sample DataFrame\n",
    "column2 = [(\"Alice\", 30), (\"Bob\", 45), (\"Cathy\", 29), (\"Ahmed\", 26)]\n",
    "column2 = spark.createDataFrame(data, [\"name\", \"age\"])"
   ]
  },
  {
   "cell_type": "code",
   "execution_count": 27,
   "id": "f3a64f5b-7e89-41ec-86db-7b1c28795098",
   "metadata": {},
   "outputs": [],
   "source": [
    "column5 = spark.range(100,105)"
   ]
  },
  {
   "cell_type": "code",
   "execution_count": 28,
   "id": "1e20ae35-ffcb-416e-8a2c-ecffbf572250",
   "metadata": {},
   "outputs": [],
   "source": [
    "deltaTable.alias(\"target\").merge(\n",
    "    column5.alias(\"source\"),\n",
    "    \"target.id = source.id\").whenMatchedUpdateAll().whenNotMatchedInsertAll().execute()"
   ]
  },
  {
   "cell_type": "code",
   "execution_count": null,
   "id": "61f206ba-6600-4d10-a1cf-9cd3522c3b7d",
   "metadata": {},
   "outputs": [],
   "source": []
  },
  {
   "cell_type": "code",
   "execution_count": 30,
   "id": "e9eb3603-8c07-4b3c-83e0-5758a9e82bff",
   "metadata": {},
   "outputs": [],
   "source": [
    "# Create a sample DataFrame\n",
    "data = [(\"Alice\", 1), (\"Bob\", 2), (\"Cathy\", 3)]\n",
    "df = spark.createDataFrame(data, [\"name\", \"id\"])\n"
   ]
  },
  {
   "cell_type": "code",
   "execution_count": 31,
   "id": "242b2aec-c38e-4347-a262-c13210078965",
   "metadata": {},
   "outputs": [],
   "source": [
    "# Save DataFrame as a Delta table\n",
    "df.write.format(\"delta\").save(\"/delta-final11\")"
   ]
  },
  {
   "cell_type": "code",
   "execution_count": 33,
   "id": "ef5382b1-78e7-4896-94fa-3ae5fce0f7b4",
   "metadata": {},
   "outputs": [
    {
     "name": "stdout",
     "output_type": "stream",
     "text": [
      "+-----+---+\n",
      "| name| id|\n",
      "+-----+---+\n",
      "|Alice|  1|\n",
      "|  Bob|  2|\n",
      "|Cathy|  3|\n",
      "+-----+---+\n",
      "\n"
     ]
    }
   ],
   "source": [
    "df_read = spark.read.format(\"delta\").load(\"/delta-final11\")\n",
    "df_read.show()"
   ]
  },
  {
   "cell_type": "code",
   "execution_count": 19,
   "id": "031e9787-7bcd-4ee0-a6f8-23bcac975850",
   "metadata": {},
   "outputs": [],
   "source": [
    "deltaTable = DeltaTable.forPath(spark, '/delta-final11')"
   ]
  },
  {
   "cell_type": "code",
   "execution_count": 35,
   "id": "69f75ee8-0ad2-4acf-8070-0d2351ed5b73",
   "metadata": {},
   "outputs": [
    {
     "name": "stdout",
     "output_type": "stream",
     "text": [
      "+-----+---+\n",
      "| name| id|\n",
      "+-----+---+\n",
      "|Alice|  1|\n",
      "|  Bob|  2|\n",
      "|Cathy|  3|\n",
      "+-----+---+\n",
      "\n"
     ]
    }
   ],
   "source": [
    "deltaTable.toDF().show()"
   ]
  },
  {
   "cell_type": "code",
   "execution_count": 36,
   "id": "7a79878e-8200-46ba-ae0a-87c71d6e2f40",
   "metadata": {},
   "outputs": [],
   "source": [
    "# Create a sample DataFrame\n",
    "data = [(\"Ahmed\", 1), (\"Bob\", 2), (\"Cathy\", 3), (\"mooo\", 4)]\n",
    "df_new = spark.createDataFrame(data, [\"name\", \"id\"])\n"
   ]
  },
  {
   "cell_type": "code",
   "execution_count": 37,
   "id": "a161fd3b-ae3f-45a4-b85e-c02a02233cca",
   "metadata": {},
   "outputs": [],
   "source": [
    "deltaTable.alias(\"target\").merge(\n",
    "    df_new.alias(\"source\"),\n",
    "    \"target.id = source.id\").whenMatchedUpdateAll().whenNotMatchedInsertAll().execute()"
   ]
  },
  {
   "cell_type": "code",
   "execution_count": 20,
   "id": "46e01eb6-8000-4958-848f-38a864b6d411",
   "metadata": {},
   "outputs": [
    {
     "name": "stdout",
     "output_type": "stream",
     "text": [
      "+-----+---+\n",
      "| name| id|\n",
      "+-----+---+\n",
      "|Cathy|  3|\n",
      "|Ahmed|  1|\n",
      "| mooo|  4|\n",
      "|  Bob|  2|\n",
      "+-----+---+\n",
      "\n"
     ]
    }
   ],
   "source": [
    "deltaTable.toDF().show()"
   ]
  },
  {
   "cell_type": "code",
   "execution_count": 32,
   "id": "f9653fc2-0d19-45df-80fa-d552ea82abd2",
   "metadata": {},
   "outputs": [
    {
     "data": {
      "text/html": [
       "<table border='1'>\n",
       "<tr><th>version</th><th>timestamp</th><th>userId</th><th>userName</th><th>operation</th><th>operationParameters</th><th>job</th><th>notebook</th><th>clusterId</th><th>readVersion</th><th>isolationLevel</th><th>isBlindAppend</th><th>operationMetrics</th><th>userMetadata</th></tr>\n",
       "<tr><td>2</td><td>2024-07-19 16:06:...</td><td>null</td><td>null</td><td>WRITE</td><td>{mode -&gt; Overwrit...</td><td>null</td><td>null</td><td>null</td><td>1</td><td>null</td><td>false</td><td>{numFiles -&gt; 1, n...</td><td>null</td></tr>\n",
       "<tr><td>1</td><td>2024-07-19 13:07:...</td><td>null</td><td>null</td><td>MERGE</td><td>{predicate -&gt; (ta...</td><td>null</td><td>null</td><td>null</td><td>0</td><td>null</td><td>false</td><td>{numTargetRowsCop...</td><td>null</td></tr>\n",
       "<tr><td>0</td><td>2024-07-19 13:04:...</td><td>null</td><td>null</td><td>WRITE</td><td>{mode -&gt; ErrorIfE...</td><td>null</td><td>null</td><td>null</td><td>null</td><td>null</td><td>true</td><td>{numFiles -&gt; 2, n...</td><td>null</td></tr>\n",
       "</table>\n"
      ],
      "text/plain": [
       "+-------+--------------------+------+--------+---------+--------------------+----+--------+---------+-----------+--------------+-------------+--------------------+------------+\n",
       "|version|           timestamp|userId|userName|operation| operationParameters| job|notebook|clusterId|readVersion|isolationLevel|isBlindAppend|    operationMetrics|userMetadata|\n",
       "+-------+--------------------+------+--------+---------+--------------------+----+--------+---------+-----------+--------------+-------------+--------------------+------------+\n",
       "|      2|2024-07-19 16:06:...|  null|    null|    WRITE|{mode -> Overwrit...|null|    null|     null|          1|          null|        false|{numFiles -> 1, n...|        null|\n",
       "|      1|2024-07-19 13:07:...|  null|    null|    MERGE|{predicate -> (ta...|null|    null|     null|          0|          null|        false|{numTargetRowsCop...|        null|\n",
       "|      0|2024-07-19 13:04:...|  null|    null|    WRITE|{mode -> ErrorIfE...|null|    null|     null|       null|          null|         true|{numFiles -> 2, n...|        null|\n",
       "+-------+--------------------+------+--------+---------+--------------------+----+--------+---------+-----------+--------------+-------------+--------------------+------------+"
      ]
     },
     "execution_count": 32,
     "metadata": {},
     "output_type": "execute_result"
    }
   ],
   "source": [
    "deltaTable.history()"
   ]
  },
  {
   "cell_type": "code",
   "execution_count": 61,
   "id": "9dbafc47-5571-47c6-adff-be8dd59b545d",
   "metadata": {},
   "outputs": [
    {
     "name": "stdout",
     "output_type": "stream",
     "text": [
      "+-----+---+\n",
      "| name| id|\n",
      "+-----+---+\n",
      "|Alice|  1|\n",
      "|  Bob|  2|\n",
      "|Cathy|  3|\n",
      "+-----+---+\n",
      "\n"
     ]
    }
   ],
   "source": [
    "df_read = spark.read.format(\"delta\").option(\"versionAsof\",0).load(\"/delta-final11\")\n",
    "df_read.show()"
   ]
  },
  {
   "cell_type": "code",
   "execution_count": 62,
   "id": "e1d94aea-fc30-4a94-bcf5-bf4bc5ed6970",
   "metadata": {},
   "outputs": [
    {
     "name": "stdout",
     "output_type": "stream",
     "text": [
      "+-----+---+\n",
      "| name| id|\n",
      "+-----+---+\n",
      "|Cathy|  3|\n",
      "|Ahmed|  1|\n",
      "| mooo|  4|\n",
      "|  Bob|  2|\n",
      "+-----+---+\n",
      "\n"
     ]
    }
   ],
   "source": [
    "df_read = spark.read.format(\"delta\").option(\"versionAsof\",1).load(\"/delta-final11\")\n",
    "df_read.show()"
   ]
  },
  {
   "cell_type": "code",
   "execution_count": 10,
   "id": "778395e9-b1fd-43dc-b714-22e8dbf491b1",
   "metadata": {},
   "outputs": [
    {
     "name": "stdout",
     "output_type": "stream",
     "text": [
      "+-----+---+\n",
      "| name| id|\n",
      "+-----+---+\n",
      "|Ahmed|  1|\n",
      "+-----+---+\n",
      "\n"
     ]
    }
   ],
   "source": [
    "fi =spark.read.parquet(\"/delta-final11/part-00069-98dd1980-1c7f-4dec-9b36-fd00a1e0bb8b-c000.snappy.parquet\").show()"
   ]
  },
  {
   "cell_type": "code",
   "execution_count": 9,
   "id": "19112a35-2b4c-48df-a252-148d32cc3ae8",
   "metadata": {},
   "outputs": [
    {
     "name": "stdout",
     "output_type": "stream",
     "text": [
      "+----+---+\n",
      "|name| id|\n",
      "+----+---+\n",
      "| Bob|  2|\n",
      "+----+---+\n",
      "\n"
     ]
    }
   ],
   "source": [
    "fi =spark.read.parquet(\"/delta-final11/part-00128-d6362f93-c607-467e-9e1b-766835d9d29f-c000.snappy.parquet\").show()"
   ]
  },
  {
   "cell_type": "code",
   "execution_count": 11,
   "id": "6cf8d39f-8636-48b9-a690-deba03d253f2",
   "metadata": {},
   "outputs": [
    {
     "name": "stdout",
     "output_type": "stream",
     "text": [
      "+-----+---+\n",
      "| name| id|\n",
      "+-----+---+\n",
      "|Cathy|  3|\n",
      "+-----+---+\n",
      "\n"
     ]
    }
   ],
   "source": [
    "fi =spark.read.parquet(\"/delta-final11/part-00107-3beafe8f-775e-41a2-85fc-8282fb10caa9-c000.snappy.parquet\").show()"
   ]
  },
  {
   "cell_type": "code",
   "execution_count": 12,
   "id": "a6efc527-43b9-4b6b-ad8b-e9f4730b3594",
   "metadata": {},
   "outputs": [
    {
     "name": "stdout",
     "output_type": "stream",
     "text": [
      "+----+---+\n",
      "|name| id|\n",
      "+----+---+\n",
      "+----+---+\n",
      "\n"
     ]
    }
   ],
   "source": [
    "fi =spark.read.parquet(\"/delta-final11/part-00000-6ecfb59d-1616-4baf-8d7d-cd0753677be9-c000.snappy.parquet\").show()"
   ]
  },
  {
   "cell_type": "code",
   "execution_count": 14,
   "id": "0b51a2b6-16e0-4ced-af39-7b2a5b4c8969",
   "metadata": {},
   "outputs": [
    {
     "name": "stdout",
     "output_type": "stream",
     "text": [
      "+----+---+\n",
      "|name| id|\n",
      "+----+---+\n",
      "|mooo|  4|\n",
      "+----+---+\n",
      "\n"
     ]
    }
   ],
   "source": [
    "fi =spark.read.parquet(\"/delta-final11/part-00140-4037259f-1916-4e13-acb7-e720dd63d9f1-c000.snappy.parquet\").show()"
   ]
  },
  {
   "cell_type": "code",
   "execution_count": 15,
   "id": "e3fba1a6-1df6-4740-ba2d-10bb97d24c31",
   "metadata": {},
   "outputs": [
    {
     "name": "stdout",
     "output_type": "stream",
     "text": [
      "+-----+---+\n",
      "| name| id|\n",
      "+-----+---+\n",
      "|Alice|  1|\n",
      "+-----+---+\n",
      "\n"
     ]
    }
   ],
   "source": [
    "fi =spark.read.parquet(\"/delta-final11/part-00000-3131d693-7984-4b4d-ab27-a2634effe9b1-c000.snappy.parquet\").show()"
   ]
  },
  {
   "cell_type": "code",
   "execution_count": 16,
   "id": "2fa47c9f-2e41-40d3-9c89-39caba802168",
   "metadata": {},
   "outputs": [
    {
     "name": "stdout",
     "output_type": "stream",
     "text": [
      "+-----+---+\n",
      "| name| id|\n",
      "+-----+---+\n",
      "|  Bob|  2|\n",
      "|Cathy|  3|\n",
      "+-----+---+\n",
      "\n"
     ]
    }
   ],
   "source": [
    "fi =spark.read.parquet(\"/delta-final11/part-00001-b279eff0-2043-4640-8617-deb2ca671fec-c000.snappy.parquet\").show()"
   ]
  },
  {
   "cell_type": "code",
   "execution_count": 23,
   "id": "eb2eac02-96eb-4388-9c6d-6e53672a1d25",
   "metadata": {},
   "outputs": [
    {
     "ename": "AttributeError",
     "evalue": "'DeltaTable' object has no attribute 'optimize'",
     "output_type": "error",
     "traceback": [
      "\u001b[0;31m---------------------------------------------------------------------------\u001b[0m",
      "\u001b[0;31mAttributeError\u001b[0m                            Traceback (most recent call last)",
      "\u001b[0;32m<ipython-input-23-bfe420a441ab>\u001b[0m in \u001b[0;36m<module>\u001b[0;34m\u001b[0m\n\u001b[0;32m----> 1\u001b[0;31m \u001b[0mdeltaTable\u001b[0m\u001b[0;34m.\u001b[0m\u001b[0moptimize\u001b[0m\u001b[0;34m(\u001b[0m\u001b[0;34m)\u001b[0m\u001b[0;34m.\u001b[0m\u001b[0mexecuteCompaction\u001b[0m\u001b[0;34m(\u001b[0m\u001b[0;34m)\u001b[0m\u001b[0;34m\u001b[0m\u001b[0;34m\u001b[0m\u001b[0m\n\u001b[0m",
      "\u001b[0;31mAttributeError\u001b[0m: 'DeltaTable' object has no attribute 'optimize'"
     ]
    }
   ],
   "source": [
    "deltaTable.optimize().executeCompaction()"
   ]
  },
  {
   "cell_type": "code",
   "execution_count": 22,
   "id": "2419e309-c896-44f6-b21b-72a91c7ad91e",
   "metadata": {},
   "outputs": [],
   "source": [
    "from delta.tables import *"
   ]
  },
  {
   "cell_type": "code",
   "execution_count": 29,
   "id": "72c7b331-d6c7-4b18-8c62-0d8b70978b8b",
   "metadata": {},
   "outputs": [],
   "source": [
    "path = \"/delta-final11\"\n",
    "numFiles = 1\n",
    "\n",
    "(\n",
    "    spark.read.format(\"delta\")\n",
    "    .load(path)\n",
    "    .repartition(numFiles)\n",
    "    .write.option(\"dataChange\", \"false\")\n",
    "    .format(\"delta\")\n",
    "    .mode(\"overwrite\")\n",
    "    .save(path)\n",
    ")"
   ]
  },
  {
   "cell_type": "code",
   "execution_count": 31,
   "id": "900a3b88-aeef-4207-85a6-3791bc06986a",
   "metadata": {},
   "outputs": [
    {
     "name": "stdout",
     "output_type": "stream",
     "text": [
      "+-----+---+\n",
      "| name| id|\n",
      "+-----+---+\n",
      "|  Bob|  2|\n",
      "|Cathy|  3|\n",
      "|Ahmed|  1|\n",
      "| mooo|  4|\n",
      "+-----+---+\n",
      "\n"
     ]
    }
   ],
   "source": [
    "fi =spark.read.parquet(\"/delta-final11/part-00000-881fe57e-ed6b-48ed-8405-630987b3c5f8-c000.snappy.parquet\").show()"
   ]
  },
  {
   "cell_type": "code",
   "execution_count": null,
   "id": "f5551a42-a4ba-47b4-bcf0-bb4fc46ea96e",
   "metadata": {},
   "outputs": [],
   "source": [
    "data_new = [(\"Alice\", 30), (\"Bob\", 45), (\"Cathy\", 29), (\"Ahmed\", 26)]\n",
    "df_new = spark.createDataFrame(data, [\"name\", \"age\"])"
   ]
  },
  {
   "cell_type": "code",
   "execution_count": 4,
   "id": "719f5910-f106-40fe-b168-b8765131611d",
   "metadata": {},
   "outputs": [],
   "source": [
    "# Save DataFrame as a Delta table\n",
    "df.write.format(\"delta\").save(\"/delta-final22\")\n"
   ]
  },
  {
   "cell_type": "code",
   "execution_count": 7,
   "id": "4e34c061-8286-4e70-996f-d3ef7ca274f1",
   "metadata": {},
   "outputs": [
    {
     "data": {
      "text/html": [
       "<table border='1'>\n",
       "<tr><th>name</th><th>age</th></tr>\n",
       "<tr><td>Alice</td><td>34</td></tr>\n",
       "<tr><td>Bob</td><td>45</td></tr>\n",
       "<tr><td>Cathy</td><td>29</td></tr>\n",
       "</table>\n"
      ],
      "text/plain": [
       "+-----+---+\n",
       "| name|age|\n",
       "+-----+---+\n",
       "|Alice| 34|\n",
       "|  Bob| 45|\n",
       "|Cathy| 29|\n",
       "+-----+---+"
      ]
     },
     "execution_count": 7,
     "metadata": {},
     "output_type": "execute_result"
    }
   ],
   "source": [
    "df"
   ]
  },
  {
   "cell_type": "code",
   "execution_count": 6,
   "id": "8791b914-d312-42ed-941b-1b24eef32a02",
   "metadata": {},
   "outputs": [
    {
     "name": "stdout",
     "output_type": "stream",
     "text": [
      "+-----+---+\n",
      "| name|age|\n",
      "+-----+---+\n",
      "|Alice| 34|\n",
      "|  Bob| 45|\n",
      "|Cathy| 29|\n",
      "+-----+---+\n",
      "\n"
     ]
    }
   ],
   "source": [
    "df_read = spark.read.format(\"delta\").load(\"/delta-final22\")\n",
    "df_read.show()"
   ]
  },
  {
   "cell_type": "code",
   "execution_count": 35,
   "id": "aed8ea70-74ba-448e-9439-cf36cf97054d",
   "metadata": {},
   "outputs": [],
   "source": [
    "deltaTable = DeltaTable.forPath(spark, '/delta-final2')"
   ]
  },
  {
   "cell_type": "code",
   "execution_count": null,
   "id": "2783994b-c614-4c1e-ba1b-3d2834376dd1",
   "metadata": {},
   "outputs": [],
   "source": [
    "deltaTable.alias(\"target\").merge(\n",
    "    df_new.alias(\"source\"),\n",
    "    \"target.name = source.name\").whenMatchedUpdateAll().whenNotMatchedInsertAll().execute()"
   ]
  },
  {
   "cell_type": "code",
   "execution_count": 54,
   "id": "b4d259ef-653d-4461-84b6-f42847a7b8bc",
   "metadata": {},
   "outputs": [],
   "source": [
    "# Perform the merge operation\n",
    "deltaTable.alias(\"target\").merge(\n",
    "    df_new.alias(\"source\"),\n",
    "    \"target.name = source.name\"\n",
    ").whenMatchedUpdate(set={\n",
    "    \"age\": col(\"source.age\")\n",
    "}).whenNotMatchedInsert(values={\n",
    "    \"name\": col(\"source.name\"),\n",
    "    \"age\": col(\"source.age\")\n",
    "}).execute()"
   ]
  },
  {
   "cell_type": "code",
   "execution_count": 58,
   "id": "a518dd1a-5414-4a93-8225-c1376d1135c2",
   "metadata": {},
   "outputs": [
    {
     "name": "stdout",
     "output_type": "stream",
     "text": [
      "+-----+---+\n",
      "| name|age|\n",
      "+-----+---+\n",
      "|Alice| 34|\n",
      "|Cathy| 29|\n",
      "|  Bob| 45|\n",
      "+-----+---+\n",
      "\n"
     ]
    }
   ],
   "source": [
    "deltaTable.toDF().show()"
   ]
  },
  {
   "cell_type": "code",
   "execution_count": null,
   "id": "1d81d829-b098-4cb8-840b-719411bd64a3",
   "metadata": {},
   "outputs": [],
   "source": [
    "merge = (\n",
    "    deltaTable.alias(\"Dest\")\n",
    "    .merge(\n",
    "        source_df.alias(\"Source\"),\n",
    "        \"\"\"\n",
    "        (Source.name == Dest.name)\n",
    "\n",
    "        \"\"\",\n",
    "    )\n",
    "    .whenMatchedUpdate(condition=\"Dest.Client IS NULL\", set={\"Client\": col(\"Source.Client\")})\n",
    "    .whenMatchedUpdate(condition=\"Dest.Description IS NULL\", set={\"Description\": col(\"Source.Description\")})\n",
    "    ...\n",
    "    ...\n",
    "    whenNotMatchedInsertAll()\n",
    ")\n",
    "\n",
    "merge.execute()"
   ]
  },
  {
   "cell_type": "code",
   "execution_count": 62,
   "id": "092088ae-5709-47c5-930c-696aca1db401",
   "metadata": {},
   "outputs": [
    {
     "name": "stdout",
     "output_type": "stream",
     "text": [
      "+-----+---+\n",
      "| name|age|\n",
      "+-----+---+\n",
      "|Alice| 34|\n",
      "|Cathy| 29|\n",
      "|  Bob| 45|\n",
      "+-----+---+\n",
      "\n"
     ]
    }
   ],
   "source": [
    "result_df = spark.read.format(\"delta\").load(\"/delta-final2\")\n",
    "result_df.show()"
   ]
  },
  {
   "cell_type": "code",
   "execution_count": 61,
   "id": "13b1b361-dc37-4746-8c66-c9192329fb0f",
   "metadata": {},
   "outputs": [
    {
     "name": "stdout",
     "output_type": "stream",
     "text": [
      "+-----+---+\n",
      "| name|age|\n",
      "+-----+---+\n",
      "|Alice| 34|\n",
      "|Cathy| 29|\n",
      "|  Bob| 45|\n",
      "+-----+---+\n",
      "\n"
     ]
    }
   ],
   "source": [
    "deltaTable.toDF().show()"
   ]
  },
  {
   "cell_type": "code",
   "execution_count": null,
   "id": "8f8a9e00-1037-4b35-994f-a71020cbc358",
   "metadata": {},
   "outputs": [],
   "source": [
    "spark.stop()"
   ]
  },
  {
   "cell_type": "code",
   "execution_count": 65,
   "id": "f1eb5942-f182-4ea0-8661-755ad2fc3374",
   "metadata": {},
   "outputs": [
    {
     "name": "stdout",
     "output_type": "stream",
     "text": [
      "Defaulting to user installation because normal site-packages is not writeable\n",
      "Collecting pandas\n",
      "  Downloading pandas-1.1.5-cp36-cp36m-manylinux1_x86_64.whl (9.5 MB)\n",
      "     |################################| 9.5 MB 3.3 MB/s            \n",
      "\u001b[?25hCollecting numpy>=1.15.4\n",
      "  Downloading numpy-1.19.5-cp36-cp36m-manylinux2010_x86_64.whl (14.8 MB)\n",
      "     |################################| 14.8 MB 287 kB/s            \n",
      "\u001b[?25hRequirement already satisfied: pytz>=2017.2 in /home/itversity/.local/lib/python3.6/site-packages (from pandas) (2021.3)\n",
      "Requirement already satisfied: python-dateutil>=2.7.3 in /home/itversity/.local/lib/python3.6/site-packages (from pandas) (2.8.2)\n",
      "Requirement already satisfied: six>=1.5 in /usr/lib/python3/dist-packages (from python-dateutil>=2.7.3->pandas) (1.11.0)\n",
      "Installing collected packages: numpy, pandas\n",
      "Successfully installed numpy-1.19.5 pandas-1.1.5\n",
      "Note: you may need to restart the kernel to use updated packages.\n"
     ]
    }
   ],
   "source": [
    "pip install pandas"
   ]
  },
  {
   "cell_type": "code",
   "execution_count": 2,
   "id": "36b3a8f8-e94c-4dbe-a68e-be429ab19ab7",
   "metadata": {},
   "outputs": [
    {
     "name": "stdout",
     "output_type": "stream",
     "text": [
      "Defaulting to user installation because normal site-packages is not writeable\n",
      "Requirement already satisfied: pyarrow in /home/itversity/.local/lib/python3.6/site-packages (6.0.1)\n",
      "Requirement already satisfied: numpy>=1.16.6 in /home/itversity/.local/lib/python3.6/site-packages (from pyarrow) (1.19.5)\n",
      "Note: you may need to restart the kernel to use updated packages.\n"
     ]
    }
   ],
   "source": [
    "pip install pyarrow"
   ]
  },
  {
   "cell_type": "code",
   "execution_count": null,
   "id": "d429bee3-3be5-4408-b2ef-1604de079b77",
   "metadata": {},
   "outputs": [],
   "source": []
  }
 ],
 "metadata": {
  "kernelspec": {
   "display_name": "Pyspark 3",
   "language": "python",
   "name": "pyspark3"
  },
  "language_info": {
   "codemirror_mode": {
    "name": "ipython",
    "version": 3
   },
   "file_extension": ".py",
   "mimetype": "text/x-python",
   "name": "python",
   "nbconvert_exporter": "python",
   "pygments_lexer": "ipython3",
   "version": "3.6.9"
  }
 },
 "nbformat": 4,
 "nbformat_minor": 5
}
